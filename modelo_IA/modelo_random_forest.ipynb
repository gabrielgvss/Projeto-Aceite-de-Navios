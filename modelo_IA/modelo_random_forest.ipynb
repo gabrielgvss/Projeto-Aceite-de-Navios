{
 "cells": [
  {
   "cell_type": "markdown",
   "metadata": {},
   "source": [
    "# ANÁLISE DE FUNCIONAMENTO DO MODELO RANDOM FOREST PARA ACEITE DE NAVIOS"
   ]
  },
  {
   "cell_type": "code",
   "execution_count": 102,
   "metadata": {
    "id": "lPgylGqHu2Pk"
   },
   "outputs": [],
   "source": [
    "#IMPORTANDO BIBLIOTECAS NECESSÁRIAS\n",
    "import pandas as pd\n",
    "import numpy as np\n",
    "from sklearn.model_selection import train_test_split\n",
    "from sklearn.ensemble import RandomForestClassifier\n",
    "from sklearn.model_selection import GridSearchCV\n",
    "from sklearn.metrics import confusion_matrix, accuracy_score\n",
    "from sklearn.metrics import precision_score, recall_score, f1_score\n",
    "from sklearn.model_selection import cross_val_score"
   ]
  },
  {
   "cell_type": "markdown",
   "metadata": {},
   "source": [
    "## VISUALIZAÇÃO E COMPREENSÃO DOS DADOS"
   ]
  },
  {
   "cell_type": "code",
   "execution_count": 113,
   "metadata": {
    "id": "bJNxVoXlvMiY"
   },
   "outputs": [],
   "source": [
    "#ABRINDO ARQUIVOS EM DATAFRAMES\n",
    "df_treino_teste = pd.read_csv('dados_simulacao2.csv')\n",
    "df_testagem_aceitos = pd.read_csv('amostras_aceitos.csv')\n",
    "df_testagem_recusados = pd.read_csv('amostras_recusados.csv')\n",
    "df_testagem_mista = pd.read_csv('amostras_testagem.csv')"
   ]
  },
  {
   "cell_type": "code",
   "execution_count": 114,
   "metadata": {
    "colab": {
     "base_uri": "https://localhost:8080/",
     "height": 278
    },
    "id": "Od_Rqvj5zZoq",
    "outputId": "0c187019-e8d9-4c02-8f58-35a55d4d088d"
   },
   "outputs": [
    {
     "data": {
      "text/html": [
       "<div>\n",
       "<style scoped>\n",
       "    .dataframe tbody tr th:only-of-type {\n",
       "        vertical-align: middle;\n",
       "    }\n",
       "\n",
       "    .dataframe tbody tr th {\n",
       "        vertical-align: top;\n",
       "    }\n",
       "\n",
       "    .dataframe thead th {\n",
       "        text-align: right;\n",
       "    }\n",
       "</style>\n",
       "<table border=\"1\" class=\"dataframe\">\n",
       "  <thead>\n",
       "    <tr style=\"text-align: right;\">\n",
       "      <th></th>\n",
       "      <th>Nome</th>\n",
       "      <th>LOA (m)</th>\n",
       "      <th>Boca (m)</th>\n",
       "      <th>DWT (ton)</th>\n",
       "      <th>Calado de Entrada (m)</th>\n",
       "      <th>Calado de Saída (m)</th>\n",
       "      <th>Calado Aéreo (m)</th>\n",
       "      <th>Pontal (m)</th>\n",
       "      <th>Tamanho de Lança (m)</th>\n",
       "      <th>Ano de Construção</th>\n",
       "      <th>Tipo do Navio</th>\n",
       "      <th>Último Porto</th>\n",
       "      <th>Próximo Porto</th>\n",
       "      <th>Situação</th>\n",
       "    </tr>\n",
       "  </thead>\n",
       "  <tbody>\n",
       "    <tr>\n",
       "      <th>0</th>\n",
       "      <td>Navio1</td>\n",
       "      <td>59</td>\n",
       "      <td>15</td>\n",
       "      <td>63260</td>\n",
       "      <td>14</td>\n",
       "      <td>8</td>\n",
       "      <td>24</td>\n",
       "      <td>19</td>\n",
       "      <td>11</td>\n",
       "      <td>2008</td>\n",
       "      <td>GL</td>\n",
       "      <td>Porto5</td>\n",
       "      <td>Porto2</td>\n",
       "      <td>1</td>\n",
       "    </tr>\n",
       "    <tr>\n",
       "      <th>1</th>\n",
       "      <td>Navio2</td>\n",
       "      <td>15</td>\n",
       "      <td>9</td>\n",
       "      <td>46723</td>\n",
       "      <td>13</td>\n",
       "      <td>15</td>\n",
       "      <td>30</td>\n",
       "      <td>13</td>\n",
       "      <td>60</td>\n",
       "      <td>2015</td>\n",
       "      <td>GL</td>\n",
       "      <td>Porto1</td>\n",
       "      <td>Porto5</td>\n",
       "      <td>1</td>\n",
       "    </tr>\n",
       "    <tr>\n",
       "      <th>2</th>\n",
       "      <td>Navio3</td>\n",
       "      <td>18</td>\n",
       "      <td>11</td>\n",
       "      <td>191817</td>\n",
       "      <td>15</td>\n",
       "      <td>16</td>\n",
       "      <td>28</td>\n",
       "      <td>10</td>\n",
       "      <td>33</td>\n",
       "      <td>2009</td>\n",
       "      <td>GS</td>\n",
       "      <td>Porto3</td>\n",
       "      <td>Porto1</td>\n",
       "      <td>0</td>\n",
       "    </tr>\n",
       "    <tr>\n",
       "      <th>3</th>\n",
       "      <td>Navio4</td>\n",
       "      <td>18</td>\n",
       "      <td>13</td>\n",
       "      <td>195241</td>\n",
       "      <td>11</td>\n",
       "      <td>16</td>\n",
       "      <td>19</td>\n",
       "      <td>12</td>\n",
       "      <td>74</td>\n",
       "      <td>2020</td>\n",
       "      <td>GSM</td>\n",
       "      <td>Porto2</td>\n",
       "      <td>Porto5</td>\n",
       "      <td>0</td>\n",
       "    </tr>\n",
       "    <tr>\n",
       "      <th>4</th>\n",
       "      <td>Navio5</td>\n",
       "      <td>54</td>\n",
       "      <td>17</td>\n",
       "      <td>37299</td>\n",
       "      <td>10</td>\n",
       "      <td>15</td>\n",
       "      <td>16</td>\n",
       "      <td>14</td>\n",
       "      <td>24</td>\n",
       "      <td>2006</td>\n",
       "      <td>GLP</td>\n",
       "      <td>Porto5</td>\n",
       "      <td>Porto3</td>\n",
       "      <td>1</td>\n",
       "    </tr>\n",
       "    <tr>\n",
       "      <th>5</th>\n",
       "      <td>Navio6</td>\n",
       "      <td>24</td>\n",
       "      <td>15</td>\n",
       "      <td>161956</td>\n",
       "      <td>16</td>\n",
       "      <td>12</td>\n",
       "      <td>14</td>\n",
       "      <td>18</td>\n",
       "      <td>101</td>\n",
       "      <td>2019</td>\n",
       "      <td>GL</td>\n",
       "      <td>Porto1</td>\n",
       "      <td>Porto5</td>\n",
       "      <td>0</td>\n",
       "    </tr>\n",
       "    <tr>\n",
       "      <th>6</th>\n",
       "      <td>Navio7</td>\n",
       "      <td>34</td>\n",
       "      <td>17</td>\n",
       "      <td>69892</td>\n",
       "      <td>9</td>\n",
       "      <td>18</td>\n",
       "      <td>21</td>\n",
       "      <td>8</td>\n",
       "      <td>87</td>\n",
       "      <td>2002</td>\n",
       "      <td>GL</td>\n",
       "      <td>Porto2</td>\n",
       "      <td>Porto4</td>\n",
       "      <td>0</td>\n",
       "    </tr>\n",
       "    <tr>\n",
       "      <th>7</th>\n",
       "      <td>Navio8</td>\n",
       "      <td>36</td>\n",
       "      <td>6</td>\n",
       "      <td>34081</td>\n",
       "      <td>11</td>\n",
       "      <td>14</td>\n",
       "      <td>27</td>\n",
       "      <td>10</td>\n",
       "      <td>47</td>\n",
       "      <td>2000</td>\n",
       "      <td>GSM</td>\n",
       "      <td>Porto5</td>\n",
       "      <td>Porto2</td>\n",
       "      <td>0</td>\n",
       "    </tr>\n",
       "    <tr>\n",
       "      <th>8</th>\n",
       "      <td>Navio9</td>\n",
       "      <td>51</td>\n",
       "      <td>17</td>\n",
       "      <td>30851</td>\n",
       "      <td>16</td>\n",
       "      <td>17</td>\n",
       "      <td>10</td>\n",
       "      <td>16</td>\n",
       "      <td>62</td>\n",
       "      <td>2015</td>\n",
       "      <td>GL</td>\n",
       "      <td>Porto4</td>\n",
       "      <td>Porto5</td>\n",
       "      <td>1</td>\n",
       "    </tr>\n",
       "    <tr>\n",
       "      <th>9</th>\n",
       "      <td>Navio10</td>\n",
       "      <td>38</td>\n",
       "      <td>13</td>\n",
       "      <td>114217</td>\n",
       "      <td>19</td>\n",
       "      <td>14</td>\n",
       "      <td>21</td>\n",
       "      <td>15</td>\n",
       "      <td>108</td>\n",
       "      <td>2002</td>\n",
       "      <td>GSM</td>\n",
       "      <td>Porto3</td>\n",
       "      <td>Porto5</td>\n",
       "      <td>0</td>\n",
       "    </tr>\n",
       "  </tbody>\n",
       "</table>\n",
       "</div>"
      ],
      "text/plain": [
       "      Nome  LOA (m)  Boca (m)  DWT (ton)  Calado de Entrada (m)  \\\n",
       "0   Navio1       59        15      63260                     14   \n",
       "1   Navio2       15         9      46723                     13   \n",
       "2   Navio3       18        11     191817                     15   \n",
       "3   Navio4       18        13     195241                     11   \n",
       "4   Navio5       54        17      37299                     10   \n",
       "5   Navio6       24        15     161956                     16   \n",
       "6   Navio7       34        17      69892                      9   \n",
       "7   Navio8       36         6      34081                     11   \n",
       "8   Navio9       51        17      30851                     16   \n",
       "9  Navio10       38        13     114217                     19   \n",
       "\n",
       "   Calado de Saída (m)  Calado Aéreo (m)  Pontal (m)  Tamanho de Lança (m)  \\\n",
       "0                    8                24          19                    11   \n",
       "1                   15                30          13                    60   \n",
       "2                   16                28          10                    33   \n",
       "3                   16                19          12                    74   \n",
       "4                   15                16          14                    24   \n",
       "5                   12                14          18                   101   \n",
       "6                   18                21           8                    87   \n",
       "7                   14                27          10                    47   \n",
       "8                   17                10          16                    62   \n",
       "9                   14                21          15                   108   \n",
       "\n",
       "   Ano de Construção Tipo do Navio Último Porto Próximo Porto  Situação  \n",
       "0               2008            GL       Porto5        Porto2         1  \n",
       "1               2015            GL       Porto1        Porto5         1  \n",
       "2               2009            GS       Porto3        Porto1         0  \n",
       "3               2020           GSM       Porto2        Porto5         0  \n",
       "4               2006           GLP       Porto5        Porto3         1  \n",
       "5               2019            GL       Porto1        Porto5         0  \n",
       "6               2002            GL       Porto2        Porto4         0  \n",
       "7               2000           GSM       Porto5        Porto2         0  \n",
       "8               2015            GL       Porto4        Porto5         1  \n",
       "9               2002           GSM       Porto3        Porto5         0  "
      ]
     },
     "execution_count": 114,
     "metadata": {},
     "output_type": "execute_result"
    }
   ],
   "source": [
    "#VISUALIZAÇÃO DOS DADOS DE SIMULAÇÃO COM CLASSES 'BALANCEADAS'\n",
    "df_treino_teste.head(10)"
   ]
  },
  {
   "cell_type": "code",
   "execution_count": 116,
   "metadata": {},
   "outputs": [
    {
     "name": "stdout",
     "output_type": "stream",
     "text": [
      "<class 'pandas.core.frame.DataFrame'>\n",
      "RangeIndex: 60 entries, 0 to 59\n",
      "Data columns (total 15 columns):\n",
      " #   Column                 Non-Null Count  Dtype \n",
      "---  ------                 --------------  ----- \n",
      " 0   Unnamed: 0             60 non-null     int64 \n",
      " 1   Nome                   60 non-null     object\n",
      " 2   LOA (m)                60 non-null     int64 \n",
      " 3   Boca (m)               60 non-null     int64 \n",
      " 4   DWT (ton)              60 non-null     int64 \n",
      " 5   Calado de Entrada (m)  60 non-null     int64 \n",
      " 6   Calado de Saída (m)    60 non-null     int64 \n",
      " 7   Calado Aéreo (m)       60 non-null     int64 \n",
      " 8   Pontal (m)             60 non-null     int64 \n",
      " 9   Tamanho de Lança (m)   60 non-null     int64 \n",
      " 10  Ano de Construção      60 non-null     int64 \n",
      " 11  Tipo do Navio          60 non-null     object\n",
      " 12  Último Porto           60 non-null     object\n",
      " 13  Próximo Porto          60 non-null     object\n",
      " 14  Situação               60 non-null     int64 \n",
      "dtypes: int64(11), object(4)\n",
      "memory usage: 7.2+ KB\n"
     ]
    }
   ],
   "source": [
    "#INFOS SOBRE TIPAGEM DE DADOS DO DF\n",
    "df_testagem_recusados.info()"
   ]
  },
  {
   "cell_type": "code",
   "execution_count": 117,
   "metadata": {
    "id": "H18uZXiPzzKS"
   },
   "outputs": [],
   "source": [
    "# EXCLUINDO COLUNA ERRÔNEA DOS DATAFRAMES DE TESTAGEM\n",
    "df_testagem_aceitos = df_testagem_aceitos.drop(columns=['Unnamed: 0'])\n",
    "df_testagem_mista = df_testagem_mista.drop(columns=['Unnamed: 0'])\n",
    "df_testagem_recusados = df_testagem_recusados.drop(columns=['Unnamed: 0'])"
   ]
  },
  {
   "cell_type": "code",
   "execution_count": 118,
   "metadata": {},
   "outputs": [
    {
     "data": {
      "text/html": [
       "<div>\n",
       "<style scoped>\n",
       "    .dataframe tbody tr th:only-of-type {\n",
       "        vertical-align: middle;\n",
       "    }\n",
       "\n",
       "    .dataframe tbody tr th {\n",
       "        vertical-align: top;\n",
       "    }\n",
       "\n",
       "    .dataframe thead th {\n",
       "        text-align: right;\n",
       "    }\n",
       "</style>\n",
       "<table border=\"1\" class=\"dataframe\">\n",
       "  <thead>\n",
       "    <tr style=\"text-align: right;\">\n",
       "      <th></th>\n",
       "      <th>Nome</th>\n",
       "      <th>LOA (m)</th>\n",
       "      <th>Boca (m)</th>\n",
       "      <th>DWT (ton)</th>\n",
       "      <th>Calado de Entrada (m)</th>\n",
       "      <th>Calado de Saída (m)</th>\n",
       "      <th>Calado Aéreo (m)</th>\n",
       "      <th>Pontal (m)</th>\n",
       "      <th>Tamanho de Lança (m)</th>\n",
       "      <th>Ano de Construção</th>\n",
       "      <th>Tipo do Navio</th>\n",
       "      <th>Último Porto</th>\n",
       "      <th>Próximo Porto</th>\n",
       "      <th>Situação</th>\n",
       "    </tr>\n",
       "  </thead>\n",
       "  <tbody>\n",
       "    <tr>\n",
       "      <th>0</th>\n",
       "      <td>Navio1</td>\n",
       "      <td>59</td>\n",
       "      <td>12</td>\n",
       "      <td>93953</td>\n",
       "      <td>11</td>\n",
       "      <td>8</td>\n",
       "      <td>21</td>\n",
       "      <td>14</td>\n",
       "      <td>16</td>\n",
       "      <td>2019</td>\n",
       "      <td>GL</td>\n",
       "      <td>Porto3</td>\n",
       "      <td>Porto5</td>\n",
       "      <td>1</td>\n",
       "    </tr>\n",
       "    <tr>\n",
       "      <th>1</th>\n",
       "      <td>Navio3</td>\n",
       "      <td>18</td>\n",
       "      <td>7</td>\n",
       "      <td>108851</td>\n",
       "      <td>11</td>\n",
       "      <td>18</td>\n",
       "      <td>20</td>\n",
       "      <td>19</td>\n",
       "      <td>42</td>\n",
       "      <td>2018</td>\n",
       "      <td>GS</td>\n",
       "      <td>Porto1</td>\n",
       "      <td>Porto3</td>\n",
       "      <td>1</td>\n",
       "    </tr>\n",
       "    <tr>\n",
       "      <th>2</th>\n",
       "      <td>Navio5</td>\n",
       "      <td>54</td>\n",
       "      <td>11</td>\n",
       "      <td>47921</td>\n",
       "      <td>11</td>\n",
       "      <td>10</td>\n",
       "      <td>21</td>\n",
       "      <td>12</td>\n",
       "      <td>20</td>\n",
       "      <td>2016</td>\n",
       "      <td>GLP</td>\n",
       "      <td>Porto5</td>\n",
       "      <td>Porto4</td>\n",
       "      <td>1</td>\n",
       "    </tr>\n",
       "    <tr>\n",
       "      <th>3</th>\n",
       "      <td>Navio13</td>\n",
       "      <td>39</td>\n",
       "      <td>7</td>\n",
       "      <td>105647</td>\n",
       "      <td>10</td>\n",
       "      <td>18</td>\n",
       "      <td>12</td>\n",
       "      <td>8</td>\n",
       "      <td>13</td>\n",
       "      <td>2015</td>\n",
       "      <td>GLP</td>\n",
       "      <td>Porto3</td>\n",
       "      <td>Porto4</td>\n",
       "      <td>1</td>\n",
       "    </tr>\n",
       "    <tr>\n",
       "      <th>4</th>\n",
       "      <td>Navio15</td>\n",
       "      <td>16</td>\n",
       "      <td>8</td>\n",
       "      <td>140374</td>\n",
       "      <td>10</td>\n",
       "      <td>17</td>\n",
       "      <td>16</td>\n",
       "      <td>9</td>\n",
       "      <td>21</td>\n",
       "      <td>2014</td>\n",
       "      <td>GSM</td>\n",
       "      <td>Porto5</td>\n",
       "      <td>Porto4</td>\n",
       "      <td>1</td>\n",
       "    </tr>\n",
       "    <tr>\n",
       "      <th>...</th>\n",
       "      <td>...</td>\n",
       "      <td>...</td>\n",
       "      <td>...</td>\n",
       "      <td>...</td>\n",
       "      <td>...</td>\n",
       "      <td>...</td>\n",
       "      <td>...</td>\n",
       "      <td>...</td>\n",
       "      <td>...</td>\n",
       "      <td>...</td>\n",
       "      <td>...</td>\n",
       "      <td>...</td>\n",
       "      <td>...</td>\n",
       "      <td>...</td>\n",
       "    </tr>\n",
       "    <tr>\n",
       "      <th>295</th>\n",
       "      <td>Navio693</td>\n",
       "      <td>48</td>\n",
       "      <td>14</td>\n",
       "      <td>114625</td>\n",
       "      <td>14</td>\n",
       "      <td>18</td>\n",
       "      <td>19</td>\n",
       "      <td>6</td>\n",
       "      <td>70</td>\n",
       "      <td>2007</td>\n",
       "      <td>GS</td>\n",
       "      <td>Porto3</td>\n",
       "      <td>Porto2</td>\n",
       "      <td>1</td>\n",
       "    </tr>\n",
       "    <tr>\n",
       "      <th>296</th>\n",
       "      <td>Navio697</td>\n",
       "      <td>48</td>\n",
       "      <td>15</td>\n",
       "      <td>147175</td>\n",
       "      <td>10</td>\n",
       "      <td>13</td>\n",
       "      <td>10</td>\n",
       "      <td>6</td>\n",
       "      <td>83</td>\n",
       "      <td>2009</td>\n",
       "      <td>GLP</td>\n",
       "      <td>Porto4</td>\n",
       "      <td>Porto2</td>\n",
       "      <td>1</td>\n",
       "    </tr>\n",
       "    <tr>\n",
       "      <th>297</th>\n",
       "      <td>Navio700</td>\n",
       "      <td>40</td>\n",
       "      <td>12</td>\n",
       "      <td>85766</td>\n",
       "      <td>11</td>\n",
       "      <td>15</td>\n",
       "      <td>28</td>\n",
       "      <td>15</td>\n",
       "      <td>70</td>\n",
       "      <td>2018</td>\n",
       "      <td>GSM</td>\n",
       "      <td>Porto4</td>\n",
       "      <td>Porto5</td>\n",
       "      <td>1</td>\n",
       "    </tr>\n",
       "    <tr>\n",
       "      <th>298</th>\n",
       "      <td>Navio701</td>\n",
       "      <td>39</td>\n",
       "      <td>15</td>\n",
       "      <td>56712</td>\n",
       "      <td>15</td>\n",
       "      <td>14</td>\n",
       "      <td>13</td>\n",
       "      <td>13</td>\n",
       "      <td>23</td>\n",
       "      <td>2019</td>\n",
       "      <td>GS</td>\n",
       "      <td>Porto4</td>\n",
       "      <td>Porto3</td>\n",
       "      <td>1</td>\n",
       "    </tr>\n",
       "    <tr>\n",
       "      <th>299</th>\n",
       "      <td>Navio704</td>\n",
       "      <td>45</td>\n",
       "      <td>9</td>\n",
       "      <td>57861</td>\n",
       "      <td>14</td>\n",
       "      <td>8</td>\n",
       "      <td>25</td>\n",
       "      <td>17</td>\n",
       "      <td>70</td>\n",
       "      <td>2019</td>\n",
       "      <td>GLP</td>\n",
       "      <td>Porto3</td>\n",
       "      <td>Porto5</td>\n",
       "      <td>1</td>\n",
       "    </tr>\n",
       "  </tbody>\n",
       "</table>\n",
       "<p>300 rows × 14 columns</p>\n",
       "</div>"
      ],
      "text/plain": [
       "         Nome  LOA (m)  Boca (m)  DWT (ton)  Calado de Entrada (m)  \\\n",
       "0      Navio1       59        12      93953                     11   \n",
       "1      Navio3       18         7     108851                     11   \n",
       "2      Navio5       54        11      47921                     11   \n",
       "3     Navio13       39         7     105647                     10   \n",
       "4     Navio15       16         8     140374                     10   \n",
       "..        ...      ...       ...        ...                    ...   \n",
       "295  Navio693       48        14     114625                     14   \n",
       "296  Navio697       48        15     147175                     10   \n",
       "297  Navio700       40        12      85766                     11   \n",
       "298  Navio701       39        15      56712                     15   \n",
       "299  Navio704       45         9      57861                     14   \n",
       "\n",
       "     Calado de Saída (m)  Calado Aéreo (m)  Pontal (m)  Tamanho de Lança (m)  \\\n",
       "0                      8                21          14                    16   \n",
       "1                     18                20          19                    42   \n",
       "2                     10                21          12                    20   \n",
       "3                     18                12           8                    13   \n",
       "4                     17                16           9                    21   \n",
       "..                   ...               ...         ...                   ...   \n",
       "295                   18                19           6                    70   \n",
       "296                   13                10           6                    83   \n",
       "297                   15                28          15                    70   \n",
       "298                   14                13          13                    23   \n",
       "299                    8                25          17                    70   \n",
       "\n",
       "     Ano de Construção Tipo do Navio Último Porto Próximo Porto  Situação  \n",
       "0                 2019            GL       Porto3        Porto5         1  \n",
       "1                 2018            GS       Porto1        Porto3         1  \n",
       "2                 2016           GLP       Porto5        Porto4         1  \n",
       "3                 2015           GLP       Porto3        Porto4         1  \n",
       "4                 2014           GSM       Porto5        Porto4         1  \n",
       "..                 ...           ...          ...           ...       ...  \n",
       "295               2007            GS       Porto3        Porto2         1  \n",
       "296               2009           GLP       Porto4        Porto2         1  \n",
       "297               2018           GSM       Porto4        Porto5         1  \n",
       "298               2019            GS       Porto4        Porto3         1  \n",
       "299               2019           GLP       Porto3        Porto5         1  \n",
       "\n",
       "[300 rows x 14 columns]"
      ]
     },
     "execution_count": 118,
     "metadata": {},
     "output_type": "execute_result"
    }
   ],
   "source": [
    "df_testagem_aceitos"
   ]
  },
  {
   "cell_type": "code",
   "execution_count": 119,
   "metadata": {},
   "outputs": [
    {
     "data": {
      "text/plain": [
       "Situação\n",
       "0    592\n",
       "1    408\n",
       "Name: count, dtype: int64"
      ]
     },
     "execution_count": 119,
     "metadata": {},
     "output_type": "execute_result"
    }
   ],
   "source": [
    "#BALANCEAMENTO DE CLASSE DO DATAFRAME DE TREINO\n",
    "df_treino_teste['Situação'].value_counts() #TREINAMENTO DO MODELO COM MAIS RECUSADOS DO QUE ACEITOS"
   ]
  },
  {
   "cell_type": "markdown",
   "metadata": {},
   "source": [
    "## TRATAMENTO DOS DADOS E CONFIGURAÇÃO DO MODELO"
   ]
  },
  {
   "cell_type": "code",
   "execution_count": 120,
   "metadata": {
    "id": "fMEm2Y-Zz8XQ"
   },
   "outputs": [],
   "source": [
    "#DEFINIÇÃO DOS PREVISORES E CLASSES\n",
    "indices_previsores = [1, 2, 3, 4, 5, 9]\n",
    "\n",
    "previsores_balanceados = df_treino_teste.iloc[:, indices_previsores].values\n",
    "classe_balanceados = df_treino_teste.iloc[:, 13].values\n",
    "\n",
    "previsores_desbalanceados = df_testagem_mista.iloc[:, indices_previsores].values\n",
    "classe_desbalanceados = df_testagem_mista.iloc[:, 13].values\n",
    "\n",
    "previsores_recusados = df_testagem_recusados.iloc[:, indices_previsores].values\n",
    "classe_recusados = df_testagem_recusados.iloc[:, 13].values\n",
    "\n",
    "previsores_aceitos = df_testagem_aceitos.iloc[:, indices_previsores].values\n",
    "classe_aceitos = df_testagem_aceitos.iloc[:, 13].values"
   ]
  },
  {
   "cell_type": "code",
   "execution_count": 121,
   "metadata": {
    "id": "BEIY2nmF2loX"
   },
   "outputs": [],
   "source": [
    "#SEPARANDO DADOS DE TESTE E TREINO\n",
    "pb_train, pb_test, cb_train, cb_test = train_test_split(previsores_balanceados, classe_balanceados, train_size=0.2)\n",
    "pd_train, pd_test, cd_train, cd_test = train_test_split(previsores_desbalanceados, classe_desbalanceados, train_size=0.2)\n",
    "pr_train, pr_test, cr_train, cr_test = train_test_split(previsores_recusados, classe_recusados, train_size=0.2)\n",
    "pa_train, pa_test, ca_train, ca_test = train_test_split(previsores_aceitos, classe_aceitos, train_size=0.2)"
   ]
  },
  {
   "cell_type": "code",
   "execution_count": 122,
   "metadata": {},
   "outputs": [],
   "source": [
    "# CRIAÇÃO DO CLASSIFICADOR BASE\n",
    "classificador_base = RandomForestClassifier(random_state=0)"
   ]
  },
  {
   "cell_type": "code",
   "execution_count": 123,
   "metadata": {},
   "outputs": [],
   "source": [
    "# CONFIGURANDO GRIDSEARCHCV PARA MELHOR ESCOLHA DOS HIPERPARÂMETROS\n",
    "grid_search = GridSearchCV(classificador_base, parametros, cv=5, scoring='recall')"
   ]
  },
  {
   "cell_type": "code",
   "execution_count": 15,
   "metadata": {},
   "outputs": [
    {
     "data": {
      "text/html": [
       "<style>#sk-container-id-1 {color: black;}#sk-container-id-1 pre{padding: 0;}#sk-container-id-1 div.sk-toggleable {background-color: white;}#sk-container-id-1 label.sk-toggleable__label {cursor: pointer;display: block;width: 100%;margin-bottom: 0;padding: 0.3em;box-sizing: border-box;text-align: center;}#sk-container-id-1 label.sk-toggleable__label-arrow:before {content: \"▸\";float: left;margin-right: 0.25em;color: #696969;}#sk-container-id-1 label.sk-toggleable__label-arrow:hover:before {color: black;}#sk-container-id-1 div.sk-estimator:hover label.sk-toggleable__label-arrow:before {color: black;}#sk-container-id-1 div.sk-toggleable__content {max-height: 0;max-width: 0;overflow: hidden;text-align: left;background-color: #f0f8ff;}#sk-container-id-1 div.sk-toggleable__content pre {margin: 0.2em;color: black;border-radius: 0.25em;background-color: #f0f8ff;}#sk-container-id-1 input.sk-toggleable__control:checked~div.sk-toggleable__content {max-height: 200px;max-width: 100%;overflow: auto;}#sk-container-id-1 input.sk-toggleable__control:checked~label.sk-toggleable__label-arrow:before {content: \"▾\";}#sk-container-id-1 div.sk-estimator input.sk-toggleable__control:checked~label.sk-toggleable__label {background-color: #d4ebff;}#sk-container-id-1 div.sk-label input.sk-toggleable__control:checked~label.sk-toggleable__label {background-color: #d4ebff;}#sk-container-id-1 input.sk-hidden--visually {border: 0;clip: rect(1px 1px 1px 1px);clip: rect(1px, 1px, 1px, 1px);height: 1px;margin: -1px;overflow: hidden;padding: 0;position: absolute;width: 1px;}#sk-container-id-1 div.sk-estimator {font-family: monospace;background-color: #f0f8ff;border: 1px dotted black;border-radius: 0.25em;box-sizing: border-box;margin-bottom: 0.5em;}#sk-container-id-1 div.sk-estimator:hover {background-color: #d4ebff;}#sk-container-id-1 div.sk-parallel-item::after {content: \"\";width: 100%;border-bottom: 1px solid gray;flex-grow: 1;}#sk-container-id-1 div.sk-label:hover label.sk-toggleable__label {background-color: #d4ebff;}#sk-container-id-1 div.sk-serial::before {content: \"\";position: absolute;border-left: 1px solid gray;box-sizing: border-box;top: 0;bottom: 0;left: 50%;z-index: 0;}#sk-container-id-1 div.sk-serial {display: flex;flex-direction: column;align-items: center;background-color: white;padding-right: 0.2em;padding-left: 0.2em;position: relative;}#sk-container-id-1 div.sk-item {position: relative;z-index: 1;}#sk-container-id-1 div.sk-parallel {display: flex;align-items: stretch;justify-content: center;background-color: white;position: relative;}#sk-container-id-1 div.sk-item::before, #sk-container-id-1 div.sk-parallel-item::before {content: \"\";position: absolute;border-left: 1px solid gray;box-sizing: border-box;top: 0;bottom: 0;left: 50%;z-index: -1;}#sk-container-id-1 div.sk-parallel-item {display: flex;flex-direction: column;z-index: 1;position: relative;background-color: white;}#sk-container-id-1 div.sk-parallel-item:first-child::after {align-self: flex-end;width: 50%;}#sk-container-id-1 div.sk-parallel-item:last-child::after {align-self: flex-start;width: 50%;}#sk-container-id-1 div.sk-parallel-item:only-child::after {width: 0;}#sk-container-id-1 div.sk-dashed-wrapped {border: 1px dashed gray;margin: 0 0.4em 0.5em 0.4em;box-sizing: border-box;padding-bottom: 0.4em;background-color: white;}#sk-container-id-1 div.sk-label label {font-family: monospace;font-weight: bold;display: inline-block;line-height: 1.2em;}#sk-container-id-1 div.sk-label-container {text-align: center;}#sk-container-id-1 div.sk-container {/* jupyter's `normalize.less` sets `[hidden] { display: none; }` but bootstrap.min.css set `[hidden] { display: none !important; }` so we also need the `!important` here to be able to override the default hidden behavior on the sphinx rendered scikit-learn.org. See: https://github.com/scikit-learn/scikit-learn/issues/21755 */display: inline-block !important;position: relative;}#sk-container-id-1 div.sk-text-repr-fallback {display: none;}</style><div id=\"sk-container-id-1\" class=\"sk-top-container\"><div class=\"sk-text-repr-fallback\"><pre>GridSearchCV(cv=5, estimator=RandomForestClassifier(random_state=0),\n",
       "             param_grid={&#x27;bootstrap&#x27;: [True, False],\n",
       "                         &#x27;criterion&#x27;: [&#x27;gini&#x27;, &#x27;entropy&#x27;],\n",
       "                         &#x27;max_depth&#x27;: [None, 10, 20],\n",
       "                         &#x27;max_features&#x27;: [&#x27;sqrt&#x27;, &#x27;log2&#x27;],\n",
       "                         &#x27;min_samples_leaf&#x27;: [1, 2, 4],\n",
       "                         &#x27;min_samples_split&#x27;: [2, 5, 10],\n",
       "                         &#x27;n_estimators&#x27;: [10, 20, 30]},\n",
       "             scoring=&#x27;recall&#x27;)</pre><b>In a Jupyter environment, please rerun this cell to show the HTML representation or trust the notebook. <br />On GitHub, the HTML representation is unable to render, please try loading this page with nbviewer.org.</b></div><div class=\"sk-container\" hidden><div class=\"sk-item sk-dashed-wrapped\"><div class=\"sk-label-container\"><div class=\"sk-label sk-toggleable\"><input class=\"sk-toggleable__control sk-hidden--visually\" id=\"sk-estimator-id-1\" type=\"checkbox\" ><label for=\"sk-estimator-id-1\" class=\"sk-toggleable__label sk-toggleable__label-arrow\">GridSearchCV</label><div class=\"sk-toggleable__content\"><pre>GridSearchCV(cv=5, estimator=RandomForestClassifier(random_state=0),\n",
       "             param_grid={&#x27;bootstrap&#x27;: [True, False],\n",
       "                         &#x27;criterion&#x27;: [&#x27;gini&#x27;, &#x27;entropy&#x27;],\n",
       "                         &#x27;max_depth&#x27;: [None, 10, 20],\n",
       "                         &#x27;max_features&#x27;: [&#x27;sqrt&#x27;, &#x27;log2&#x27;],\n",
       "                         &#x27;min_samples_leaf&#x27;: [1, 2, 4],\n",
       "                         &#x27;min_samples_split&#x27;: [2, 5, 10],\n",
       "                         &#x27;n_estimators&#x27;: [10, 20, 30]},\n",
       "             scoring=&#x27;recall&#x27;)</pre></div></div></div><div class=\"sk-parallel\"><div class=\"sk-parallel-item\"><div class=\"sk-item\"><div class=\"sk-label-container\"><div class=\"sk-label sk-toggleable\"><input class=\"sk-toggleable__control sk-hidden--visually\" id=\"sk-estimator-id-2\" type=\"checkbox\" ><label for=\"sk-estimator-id-2\" class=\"sk-toggleable__label sk-toggleable__label-arrow\">estimator: RandomForestClassifier</label><div class=\"sk-toggleable__content\"><pre>RandomForestClassifier(random_state=0)</pre></div></div></div><div class=\"sk-serial\"><div class=\"sk-item\"><div class=\"sk-estimator sk-toggleable\"><input class=\"sk-toggleable__control sk-hidden--visually\" id=\"sk-estimator-id-3\" type=\"checkbox\" ><label for=\"sk-estimator-id-3\" class=\"sk-toggleable__label sk-toggleable__label-arrow\">RandomForestClassifier</label><div class=\"sk-toggleable__content\"><pre>RandomForestClassifier(random_state=0)</pre></div></div></div></div></div></div></div></div></div></div>"
      ],
      "text/plain": [
       "GridSearchCV(cv=5, estimator=RandomForestClassifier(random_state=0),\n",
       "             param_grid={'bootstrap': [True, False],\n",
       "                         'criterion': ['gini', 'entropy'],\n",
       "                         'max_depth': [None, 10, 20],\n",
       "                         'max_features': ['sqrt', 'log2'],\n",
       "                         'min_samples_leaf': [1, 2, 4],\n",
       "                         'min_samples_split': [2, 5, 10],\n",
       "                         'n_estimators': [10, 20, 30]},\n",
       "             scoring='recall')"
      ]
     },
     "execution_count": 15,
     "metadata": {},
     "output_type": "execute_result"
    }
   ],
   "source": [
    "# EXECUTANDO A BUSCA EXAUSTIVA\n",
    "grid_search.fit(p_train, c_train)"
   ]
  },
  {
   "cell_type": "code",
   "execution_count": 16,
   "metadata": {
    "colab": {
     "base_uri": "https://localhost:8080/",
     "height": 75
    },
    "id": "jb7TCsdE3YpM",
    "outputId": "7bc50220-5c07-41e0-dd8e-d08636dc9cce",
    "scrolled": false
   },
   "outputs": [
    {
     "data": {
      "text/plain": [
       "{'bootstrap': True,\n",
       " 'criterion': 'gini',\n",
       " 'max_depth': None,\n",
       " 'max_features': 'sqrt',\n",
       " 'min_samples_leaf': 1,\n",
       " 'min_samples_split': 10,\n",
       " 'n_estimators': 10}"
      ]
     },
     "execution_count": 16,
     "metadata": {},
     "output_type": "execute_result"
    }
   ],
   "source": [
    "# OBTENDO MELHORES PARÂMETROS\n",
    "melhores_parametros = grid_search.best_params_\n",
    "melhores_parametros"
   ]
  },
  {
   "cell_type": "code",
   "execution_count": 151,
   "metadata": {
    "scrolled": true
   },
   "outputs": [],
   "source": [
    "#{'bootstrap': False,\n",
    "#'criterion': 'gini',\n",
    "#'max_depth': None,\n",
    "#'max_features': 'sqrt',\n",
    "#'min_samples_leaf': 1,\n",
    "#'min_samples_split': 2,\n",
    "#@'n_estimators': 10}\n",
    "\n",
    "#{'bootstrap': True,\n",
    "#'criterion': 'gini',\n",
    "#'max_depth': None,\n",
    "#'max_features': 'sqrt',\n",
    "#'min_samples_leaf': 1,\n",
    "#'min_samples_split': 10,\n",
    "#'n_estimators': 10}"
   ]
  },
  {
   "cell_type": "code",
   "execution_count": 124,
   "metadata": {},
   "outputs": [],
   "source": [
    "# CLASSIFICADOR COM PARÂMETROS ADVINDOS DO GRID SEARCH\n",
    "classificador = RandomForestClassifier(\n",
    "    bootstrap=True,\n",
    "    criterion='gini',\n",
    "    max_depth=None,\n",
    "    max_features='sqrt',\n",
    "    min_samples_leaf=1,\n",
    "    min_samples_split=2,\n",
    "    n_estimators=10\n",
    ")"
   ]
  },
  {
   "cell_type": "markdown",
   "metadata": {},
   "source": [
    "## TREINAMENTO DO MODELO COM DADOS DE SIMULAÇÃO 'BALANCEADOS'"
   ]
  },
  {
   "cell_type": "code",
   "execution_count": 125,
   "metadata": {},
   "outputs": [
    {
     "data": {
      "text/html": [
       "<style>#sk-container-id-9 {color: black;}#sk-container-id-9 pre{padding: 0;}#sk-container-id-9 div.sk-toggleable {background-color: white;}#sk-container-id-9 label.sk-toggleable__label {cursor: pointer;display: block;width: 100%;margin-bottom: 0;padding: 0.3em;box-sizing: border-box;text-align: center;}#sk-container-id-9 label.sk-toggleable__label-arrow:before {content: \"▸\";float: left;margin-right: 0.25em;color: #696969;}#sk-container-id-9 label.sk-toggleable__label-arrow:hover:before {color: black;}#sk-container-id-9 div.sk-estimator:hover label.sk-toggleable__label-arrow:before {color: black;}#sk-container-id-9 div.sk-toggleable__content {max-height: 0;max-width: 0;overflow: hidden;text-align: left;background-color: #f0f8ff;}#sk-container-id-9 div.sk-toggleable__content pre {margin: 0.2em;color: black;border-radius: 0.25em;background-color: #f0f8ff;}#sk-container-id-9 input.sk-toggleable__control:checked~div.sk-toggleable__content {max-height: 200px;max-width: 100%;overflow: auto;}#sk-container-id-9 input.sk-toggleable__control:checked~label.sk-toggleable__label-arrow:before {content: \"▾\";}#sk-container-id-9 div.sk-estimator input.sk-toggleable__control:checked~label.sk-toggleable__label {background-color: #d4ebff;}#sk-container-id-9 div.sk-label input.sk-toggleable__control:checked~label.sk-toggleable__label {background-color: #d4ebff;}#sk-container-id-9 input.sk-hidden--visually {border: 0;clip: rect(1px 1px 1px 1px);clip: rect(1px, 1px, 1px, 1px);height: 1px;margin: -1px;overflow: hidden;padding: 0;position: absolute;width: 1px;}#sk-container-id-9 div.sk-estimator {font-family: monospace;background-color: #f0f8ff;border: 1px dotted black;border-radius: 0.25em;box-sizing: border-box;margin-bottom: 0.5em;}#sk-container-id-9 div.sk-estimator:hover {background-color: #d4ebff;}#sk-container-id-9 div.sk-parallel-item::after {content: \"\";width: 100%;border-bottom: 1px solid gray;flex-grow: 1;}#sk-container-id-9 div.sk-label:hover label.sk-toggleable__label {background-color: #d4ebff;}#sk-container-id-9 div.sk-serial::before {content: \"\";position: absolute;border-left: 1px solid gray;box-sizing: border-box;top: 0;bottom: 0;left: 50%;z-index: 0;}#sk-container-id-9 div.sk-serial {display: flex;flex-direction: column;align-items: center;background-color: white;padding-right: 0.2em;padding-left: 0.2em;position: relative;}#sk-container-id-9 div.sk-item {position: relative;z-index: 1;}#sk-container-id-9 div.sk-parallel {display: flex;align-items: stretch;justify-content: center;background-color: white;position: relative;}#sk-container-id-9 div.sk-item::before, #sk-container-id-9 div.sk-parallel-item::before {content: \"\";position: absolute;border-left: 1px solid gray;box-sizing: border-box;top: 0;bottom: 0;left: 50%;z-index: -1;}#sk-container-id-9 div.sk-parallel-item {display: flex;flex-direction: column;z-index: 1;position: relative;background-color: white;}#sk-container-id-9 div.sk-parallel-item:first-child::after {align-self: flex-end;width: 50%;}#sk-container-id-9 div.sk-parallel-item:last-child::after {align-self: flex-start;width: 50%;}#sk-container-id-9 div.sk-parallel-item:only-child::after {width: 0;}#sk-container-id-9 div.sk-dashed-wrapped {border: 1px dashed gray;margin: 0 0.4em 0.5em 0.4em;box-sizing: border-box;padding-bottom: 0.4em;background-color: white;}#sk-container-id-9 div.sk-label label {font-family: monospace;font-weight: bold;display: inline-block;line-height: 1.2em;}#sk-container-id-9 div.sk-label-container {text-align: center;}#sk-container-id-9 div.sk-container {/* jupyter's `normalize.less` sets `[hidden] { display: none; }` but bootstrap.min.css set `[hidden] { display: none !important; }` so we also need the `!important` here to be able to override the default hidden behavior on the sphinx rendered scikit-learn.org. See: https://github.com/scikit-learn/scikit-learn/issues/21755 */display: inline-block !important;position: relative;}#sk-container-id-9 div.sk-text-repr-fallback {display: none;}</style><div id=\"sk-container-id-9\" class=\"sk-top-container\"><div class=\"sk-text-repr-fallback\"><pre>RandomForestClassifier(n_estimators=10)</pre><b>In a Jupyter environment, please rerun this cell to show the HTML representation or trust the notebook. <br />On GitHub, the HTML representation is unable to render, please try loading this page with nbviewer.org.</b></div><div class=\"sk-container\" hidden><div class=\"sk-item\"><div class=\"sk-estimator sk-toggleable\"><input class=\"sk-toggleable__control sk-hidden--visually\" id=\"sk-estimator-id-11\" type=\"checkbox\" checked><label for=\"sk-estimator-id-11\" class=\"sk-toggleable__label sk-toggleable__label-arrow\">RandomForestClassifier</label><div class=\"sk-toggleable__content\"><pre>RandomForestClassifier(n_estimators=10)</pre></div></div></div></div></div>"
      ],
      "text/plain": [
       "RandomForestClassifier(n_estimators=10)"
      ]
     },
     "execution_count": 125,
     "metadata": {},
     "output_type": "execute_result"
    }
   ],
   "source": [
    "classificador.fit(pb_train, cb_train)"
   ]
  },
  {
   "cell_type": "code",
   "execution_count": 126,
   "metadata": {
    "id": "6CGeBcFJ3pVO"
   },
   "outputs": [],
   "source": [
    "previsoes_balanceadas = classificador.predict(pb_test)"
   ]
  },
  {
   "cell_type": "markdown",
   "metadata": {},
   "source": [
    "## AVALIAÇÃO DO MODELO COM DADOS DE SIMULAÇÃO 'BALANCEADOS'"
   ]
  },
  {
   "cell_type": "code",
   "execution_count": 127,
   "metadata": {
    "colab": {
     "base_uri": "https://localhost:8080/"
    },
    "id": "vT6JptJw31as",
    "outputId": "a5d706bb-2f14-441d-e154-99f24b5d639d"
   },
   "outputs": [
    {
     "name": "stdout",
     "output_type": "stream",
     "text": [
      "MATRIZ DE CONFUSÃO (VP / FP/ FN/ VN):\n",
      " [[483   0]\n",
      " [  9 308]]\n",
      "\n",
      "ACURÁCIA: 0.98875\n",
      "\n",
      "PRECISÃO: 1.0\n",
      "\n",
      "SENSIBILIDADE/ RECALL: 0.9716088328075709\n",
      "\n",
      "F1-SCORE: 0.9856\n"
     ]
    }
   ],
   "source": [
    "# AVALIAÇÃO DO MODELO\n",
    "matriz_confusao = confusion_matrix(cb_test, previsoes_balanceadas)\n",
    "acuracia = accuracy_score(cb_test, previsoes_balanceadas)\n",
    "precisao = precision_score(cb_test, previsoes_balanceadas)\n",
    "recall = recall_score(cb_test, previsoes_balanceadas)\n",
    "f1score = f1_score(cb_test, previsoes_balanceadas)\n",
    "\n",
    "print(\"MATRIZ DE CONFUSÃO (VP / FP/ FN/ VN):\\n\", matriz_confusao)\n",
    "print(\"\\nACURÁCIA:\", acuracia)\n",
    "print(\"\\nPRECISÃO:\", precisao)\n",
    "print(\"\\nSENSIBILIDADE/ RECALL:\", recall)\n",
    "print(\"\\nF1-SCORE:\", f1score)\n"
   ]
  },
  {
   "cell_type": "code",
   "execution_count": 129,
   "metadata": {
    "colab": {
     "base_uri": "https://localhost:8080/"
    },
    "id": "hDVH9pz_5KNb",
    "outputId": "6e71d815-a427-4961-af3e-cfe710844512"
   },
   "outputs": [
    {
     "name": "stdout",
     "output_type": "stream",
     "text": [
      "Resultados Acurácia:  [1. 1. 1. 1. 1.]\n",
      "Acurácia média:  1.0\n",
      "\n",
      "\n",
      "Resultados Precisao:  [1. 1. 1. 1. 1.]\n",
      "Precisao média:  1.0\n",
      "\n",
      "\n",
      "Resultados Recall:  [1. 1. 1. 1. 1.]\n",
      "Precisao média:  1.0\n",
      "\n",
      "\n",
      "Resultados f1-score:  [1.         1.         0.99386503 1.         1.        ]\n",
      "Precisão média:  0.9987730061349694\n"
     ]
    }
   ],
   "source": [
    "resultados_acuracia = cross_val_score(classificador, previsores_balanceados, classe_balanceados, cv=5, scoring='accuracy')\n",
    "resultados_precisao = cross_val_score(classificador, previsores_balanceados, classe_balanceados, cv=5, scoring='precision')\n",
    "resultados_recall = cross_val_score(classificador, previsores_balanceados, classe_balanceados, cv=5, scoring='recall')\n",
    "resultados_f1score = cross_val_score(classificador, previsores_balanceados, classe_balanceados, cv=5, scoring='f1')\n",
    "\n",
    "print(\"Resultados Acurácia: \", resultados_acuracia)\n",
    "print(\"Acurácia média: \", np.mean(resultados_acuracia))\n",
    "print(\"\\n\")\n",
    "\n",
    "print(\"Resultados Precisao: \", resultados_precisao)\n",
    "print(\"Precisao média: \", np.mean(resultados_precisao))\n",
    "print(\"\\n\")\n",
    "\n",
    "print(\"Resultados Recall: \", resultados_recall)\n",
    "print(\"Precisao média: \", np.mean(resultados_recall))\n",
    "print(\"\\n\")\n",
    "\n",
    "print(\"Resultados f1-score: \",resultados_f1score)\n",
    "print(\"Precisão média: \", np.mean(resultados_f1score))"
   ]
  },
  {
   "cell_type": "markdown",
   "metadata": {},
   "source": [
    "## AVALIAÇÃO DO MODELO COM DADOS DE SIMULAÇÃO 'DESBALANCEADOS'"
   ]
  },
  {
   "cell_type": "code",
   "execution_count": 136,
   "metadata": {},
   "outputs": [
    {
     "data": {
      "text/plain": [
       "array([0, 0, 0, 1, 0, 1, 1, 0, 1, 1, 1, 1, 0, 1, 1, 1, 1, 1, 1, 1, 1, 0,\n",
       "       1, 1, 1, 1, 1, 1, 1, 0, 1, 1, 1, 1, 0, 1, 0, 1, 1, 1, 1, 1, 0, 1,\n",
       "       1, 0, 1, 1, 1, 1, 1, 1, 1, 1, 1, 1, 1, 1, 1, 0, 1, 0, 0, 1, 0, 1,\n",
       "       1, 1, 1, 1, 0, 1, 1, 1, 1, 1, 0, 0, 1, 1, 1, 1, 0, 1, 1, 1, 1, 1,\n",
       "       1, 1, 0, 0, 1, 1, 1, 0, 1, 1, 1, 1, 1, 1, 1, 1, 0, 1, 1, 0, 1, 1,\n",
       "       1, 1, 1, 1, 0, 1, 1, 1, 0, 1, 0, 1, 1, 1, 1, 1, 0, 1, 1, 1, 0, 1,\n",
       "       1, 0, 1, 1, 1, 1, 1, 1, 1, 1, 0, 0, 1, 1, 0, 1, 1, 1, 1, 1, 1, 0,\n",
       "       1, 0, 1, 1, 1, 1, 0, 1, 1, 0, 1, 1, 1, 1, 1, 1, 1, 1, 1, 0, 1, 0,\n",
       "       0, 1, 1, 1, 1, 1, 1, 1, 1, 1, 1, 1, 1, 1, 1, 1, 1, 1, 1, 1, 1, 1,\n",
       "       1, 1, 1, 1, 1, 1, 1, 1, 1, 1, 1, 1, 0, 1, 1, 1, 1, 0, 1, 1, 1, 1,\n",
       "       1, 1, 1, 1, 1, 1, 1, 1, 1, 1, 0, 1, 1, 0, 1, 1, 0, 1, 0, 1, 1, 1,\n",
       "       1, 1, 1, 1, 0, 1, 1, 1, 0, 1, 0, 1, 1, 1, 1, 1, 1, 1, 1, 1, 1, 1,\n",
       "       1, 0, 1, 1, 1, 1, 1, 1, 1, 1, 1, 1, 1, 1, 1, 1, 1, 0, 1, 1, 1, 1,\n",
       "       1, 1], dtype=int64)"
      ]
     },
     "execution_count": 136,
     "metadata": {},
     "output_type": "execute_result"
    }
   ],
   "source": [
    "previsoes_desbalanceadas = classificador.predict(pd_test)\n",
    "previsoes_desbalanceadas"
   ]
  },
  {
   "cell_type": "code",
   "execution_count": 137,
   "metadata": {},
   "outputs": [
    {
     "name": "stdout",
     "output_type": "stream",
     "text": [
      "MATRIZ DE CONFUSÃO (VP / FP/ FN/ VN):\n",
      " [[ 47   0]\n",
      " [  5 236]]\n",
      "\n",
      "ACURÁCIA: 0.9826388888888888\n",
      "\n",
      "PRECISÃO: 1.0\n",
      "\n",
      "SENSIBILIDADE/ RECALL: 0.979253112033195\n",
      "\n",
      "F1-SCORE: 0.9895178197064989\n"
     ]
    }
   ],
   "source": [
    "# AVALIAÇÃO DO MODELO\n",
    "matriz_confusao = confusion_matrix(cd_test, previsoes_desbalanceadas)\n",
    "acuracia = accuracy_score(cd_test, previsoes_desbalanceadas)\n",
    "precisao = precision_score(cd_test, previsoes_desbalanceadas)\n",
    "recall = recall_score(cd_test, previsoes_desbalanceadas)\n",
    "f1score = f1_score(cd_test, previsoes_desbalanceadas)\n",
    "\n",
    "print(\"MATRIZ DE CONFUSÃO (VP / FP/ FN/ VN):\\n\", matriz_confusao)\n",
    "print(\"\\nACURÁCIA:\", acuracia)\n",
    "print(\"\\nPRECISÃO:\", precisao)\n",
    "print(\"\\nSENSIBILIDADE/ RECALL:\", recall)\n",
    "print(\"\\nF1-SCORE:\", f1score)\n"
   ]
  },
  {
   "cell_type": "code",
   "execution_count": null,
   "metadata": {},
   "outputs": [],
   "source": []
  }
 ],
 "metadata": {
  "colab": {
   "provenance": []
  },
  "kernelspec": {
   "display_name": "Python 3 (ipykernel)",
   "language": "python",
   "name": "python3"
  },
  "language_info": {
   "codemirror_mode": {
    "name": "ipython",
    "version": 3
   },
   "file_extension": ".py",
   "mimetype": "text/x-python",
   "name": "python",
   "nbconvert_exporter": "python",
   "pygments_lexer": "ipython3",
   "version": "3.11.5"
  }
 },
 "nbformat": 4,
 "nbformat_minor": 1
}
