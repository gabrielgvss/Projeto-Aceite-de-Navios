{
 "cells": [
  {
   "cell_type": "code",
   "execution_count": 40,
   "metadata": {
    "id": "lPgylGqHu2Pk"
   },
   "outputs": [],
   "source": [
    "#IMPORTANDO BIBLIOTECAS NECESSÁRIAS\n",
    "import pandas as pd\n",
    "import numpy as np\n",
    "from sklearn.preprocessing import LabelEncoder\n",
    "from sklearn.compose import ColumnTransformer\n",
    "from sklearn.preprocessing import OneHotEncoder\n",
    "from sklearn.preprocessing import StandardScaler\n",
    "from sklearn.model_selection import train_test_split\n",
    "from sklearn.ensemble import RandomForestClassifier\n",
    "from sklearn.metrics import confusion_matrix, accuracy_score\n",
    "from sklearn.model_selection import cross_val_score"
   ]
  },
  {
   "cell_type": "code",
   "execution_count": 41,
   "metadata": {
    "id": "bJNxVoXlvMiY"
   },
   "outputs": [],
   "source": [
    "#ABRINDO ARQUIVO EM DATAFRAME\n",
    "df = pd.read_csv('dados_simulacao.csv')"
   ]
  },
  {
   "cell_type": "code",
   "execution_count": 42,
   "metadata": {
    "colab": {
     "base_uri": "https://localhost:8080/",
     "height": 278
    },
    "id": "Od_Rqvj5zZoq",
    "outputId": "0c187019-e8d9-4c02-8f58-35a55d4d088d"
   },
   "outputs": [
    {
     "data": {
      "text/html": [
       "<div>\n",
       "<style scoped>\n",
       "    .dataframe tbody tr th:only-of-type {\n",
       "        vertical-align: middle;\n",
       "    }\n",
       "\n",
       "    .dataframe tbody tr th {\n",
       "        vertical-align: top;\n",
       "    }\n",
       "\n",
       "    .dataframe thead th {\n",
       "        text-align: right;\n",
       "    }\n",
       "</style>\n",
       "<table border=\"1\" class=\"dataframe\">\n",
       "  <thead>\n",
       "    <tr style=\"text-align: right;\">\n",
       "      <th></th>\n",
       "      <th>Nome</th>\n",
       "      <th>LOA (m)</th>\n",
       "      <th>Boca (m)</th>\n",
       "      <th>DWT (ton)</th>\n",
       "      <th>Calado de Entrada (m)</th>\n",
       "      <th>Calado de Saída (m)</th>\n",
       "      <th>Calado Aéreo (m)</th>\n",
       "      <th>Pontal (m)</th>\n",
       "      <th>Tamanho de Lança (m)</th>\n",
       "      <th>Ano de Construção</th>\n",
       "      <th>Tipo do Navio</th>\n",
       "      <th>Último Porto</th>\n",
       "      <th>Próximo Porto</th>\n",
       "      <th>Situação</th>\n",
       "    </tr>\n",
       "  </thead>\n",
       "  <tbody>\n",
       "    <tr>\n",
       "      <th>0</th>\n",
       "      <td>Navio1</td>\n",
       "      <td>59</td>\n",
       "      <td>15</td>\n",
       "      <td>63260</td>\n",
       "      <td>14</td>\n",
       "      <td>8</td>\n",
       "      <td>24</td>\n",
       "      <td>19</td>\n",
       "      <td>11</td>\n",
       "      <td>2000</td>\n",
       "      <td>GL</td>\n",
       "      <td>Porto5</td>\n",
       "      <td>Porto5</td>\n",
       "      <td>0</td>\n",
       "    </tr>\n",
       "    <tr>\n",
       "      <th>1</th>\n",
       "      <td>Navio2</td>\n",
       "      <td>15</td>\n",
       "      <td>9</td>\n",
       "      <td>46723</td>\n",
       "      <td>13</td>\n",
       "      <td>15</td>\n",
       "      <td>30</td>\n",
       "      <td>13</td>\n",
       "      <td>60</td>\n",
       "      <td>2001</td>\n",
       "      <td>GL</td>\n",
       "      <td>Porto3</td>\n",
       "      <td>Porto3</td>\n",
       "      <td>0</td>\n",
       "    </tr>\n",
       "    <tr>\n",
       "      <th>2</th>\n",
       "      <td>Navio3</td>\n",
       "      <td>18</td>\n",
       "      <td>11</td>\n",
       "      <td>191817</td>\n",
       "      <td>15</td>\n",
       "      <td>16</td>\n",
       "      <td>28</td>\n",
       "      <td>10</td>\n",
       "      <td>33</td>\n",
       "      <td>1994</td>\n",
       "      <td>GS</td>\n",
       "      <td>Porto5</td>\n",
       "      <td>Porto1</td>\n",
       "      <td>0</td>\n",
       "    </tr>\n",
       "    <tr>\n",
       "      <th>3</th>\n",
       "      <td>Navio4</td>\n",
       "      <td>18</td>\n",
       "      <td>13</td>\n",
       "      <td>195241</td>\n",
       "      <td>11</td>\n",
       "      <td>16</td>\n",
       "      <td>19</td>\n",
       "      <td>12</td>\n",
       "      <td>74</td>\n",
       "      <td>2007</td>\n",
       "      <td>GSM</td>\n",
       "      <td>Porto5</td>\n",
       "      <td>Porto5</td>\n",
       "      <td>0</td>\n",
       "    </tr>\n",
       "    <tr>\n",
       "      <th>4</th>\n",
       "      <td>Navio5</td>\n",
       "      <td>54</td>\n",
       "      <td>17</td>\n",
       "      <td>37299</td>\n",
       "      <td>10</td>\n",
       "      <td>15</td>\n",
       "      <td>16</td>\n",
       "      <td>14</td>\n",
       "      <td>24</td>\n",
       "      <td>1994</td>\n",
       "      <td>GLP</td>\n",
       "      <td>Porto2</td>\n",
       "      <td>Porto2</td>\n",
       "      <td>0</td>\n",
       "    </tr>\n",
       "  </tbody>\n",
       "</table>\n",
       "</div>"
      ],
      "text/plain": [
       "     Nome  LOA (m)  Boca (m)  DWT (ton)  Calado de Entrada (m)  \\\n",
       "0  Navio1       59        15      63260                     14   \n",
       "1  Navio2       15         9      46723                     13   \n",
       "2  Navio3       18        11     191817                     15   \n",
       "3  Navio4       18        13     195241                     11   \n",
       "4  Navio5       54        17      37299                     10   \n",
       "\n",
       "   Calado de Saída (m)  Calado Aéreo (m)  Pontal (m)  Tamanho de Lança (m)  \\\n",
       "0                    8                24          19                    11   \n",
       "1                   15                30          13                    60   \n",
       "2                   16                28          10                    33   \n",
       "3                   16                19          12                    74   \n",
       "4                   15                16          14                    24   \n",
       "\n",
       "   Ano de Construção Tipo do Navio Último Porto Próximo Porto  Situação  \n",
       "0               2000            GL       Porto5        Porto5         0  \n",
       "1               2001            GL       Porto3        Porto3         0  \n",
       "2               1994            GS       Porto5        Porto1         0  \n",
       "3               2007           GSM       Porto5        Porto5         0  \n",
       "4               1994           GLP       Porto2        Porto2         0  "
      ]
     },
     "execution_count": 42,
     "metadata": {},
     "output_type": "execute_result"
    }
   ],
   "source": [
    "#VISUALIZAÇÃO\n",
    "df.head(5)"
   ]
  },
  {
   "cell_type": "code",
   "execution_count": 43,
   "metadata": {
    "id": "H18uZXiPzzKS"
   },
   "outputs": [
    {
     "data": {
      "text/html": [
       "<div>\n",
       "<style scoped>\n",
       "    .dataframe tbody tr th:only-of-type {\n",
       "        vertical-align: middle;\n",
       "    }\n",
       "\n",
       "    .dataframe tbody tr th {\n",
       "        vertical-align: top;\n",
       "    }\n",
       "\n",
       "    .dataframe thead th {\n",
       "        text-align: right;\n",
       "    }\n",
       "</style>\n",
       "<table border=\"1\" class=\"dataframe\">\n",
       "  <thead>\n",
       "    <tr style=\"text-align: right;\">\n",
       "      <th></th>\n",
       "      <th>LOA (m)</th>\n",
       "      <th>Boca (m)</th>\n",
       "      <th>DWT (ton)</th>\n",
       "      <th>Calado de Entrada (m)</th>\n",
       "      <th>Calado de Saída (m)</th>\n",
       "      <th>Calado Aéreo (m)</th>\n",
       "      <th>Pontal (m)</th>\n",
       "      <th>Tamanho de Lança (m)</th>\n",
       "      <th>Ano de Construção</th>\n",
       "      <th>Situação</th>\n",
       "    </tr>\n",
       "  </thead>\n",
       "  <tbody>\n",
       "    <tr>\n",
       "      <th>count</th>\n",
       "      <td>1000.000000</td>\n",
       "      <td>1000.000000</td>\n",
       "      <td>1000.000000</td>\n",
       "      <td>1000.000000</td>\n",
       "      <td>1000.000000</td>\n",
       "      <td>1000.000000</td>\n",
       "      <td>1000.000000</td>\n",
       "      <td>1000.000000</td>\n",
       "      <td>1000.000000</td>\n",
       "      <td>1000.000000</td>\n",
       "    </tr>\n",
       "    <tr>\n",
       "      <th>mean</th>\n",
       "      <td>36.611000</td>\n",
       "      <td>11.425000</td>\n",
       "      <td>113554.570000</td>\n",
       "      <td>13.536000</td>\n",
       "      <td>13.567000</td>\n",
       "      <td>21.698000</td>\n",
       "      <td>12.153000</td>\n",
       "      <td>63.278000</td>\n",
       "      <td>2006.311000</td>\n",
       "      <td>0.327000</td>\n",
       "    </tr>\n",
       "    <tr>\n",
       "      <th>std</th>\n",
       "      <td>12.956371</td>\n",
       "      <td>3.527722</td>\n",
       "      <td>50034.347423</td>\n",
       "      <td>3.408272</td>\n",
       "      <td>3.459694</td>\n",
       "      <td>7.342118</td>\n",
       "      <td>4.443798</td>\n",
       "      <td>31.249564</td>\n",
       "      <td>9.384367</td>\n",
       "      <td>0.469352</td>\n",
       "    </tr>\n",
       "    <tr>\n",
       "      <th>min</th>\n",
       "      <td>15.000000</td>\n",
       "      <td>6.000000</td>\n",
       "      <td>30043.000000</td>\n",
       "      <td>8.000000</td>\n",
       "      <td>8.000000</td>\n",
       "      <td>10.000000</td>\n",
       "      <td>5.000000</td>\n",
       "      <td>10.000000</td>\n",
       "      <td>1990.000000</td>\n",
       "      <td>0.000000</td>\n",
       "    </tr>\n",
       "    <tr>\n",
       "      <th>25%</th>\n",
       "      <td>25.000000</td>\n",
       "      <td>8.000000</td>\n",
       "      <td>69858.750000</td>\n",
       "      <td>11.000000</td>\n",
       "      <td>11.000000</td>\n",
       "      <td>15.000000</td>\n",
       "      <td>8.000000</td>\n",
       "      <td>37.000000</td>\n",
       "      <td>1998.000000</td>\n",
       "      <td>0.000000</td>\n",
       "    </tr>\n",
       "    <tr>\n",
       "      <th>50%</th>\n",
       "      <td>37.000000</td>\n",
       "      <td>11.000000</td>\n",
       "      <td>109808.500000</td>\n",
       "      <td>14.000000</td>\n",
       "      <td>14.000000</td>\n",
       "      <td>22.000000</td>\n",
       "      <td>12.000000</td>\n",
       "      <td>61.500000</td>\n",
       "      <td>2006.000000</td>\n",
       "      <td>0.000000</td>\n",
       "    </tr>\n",
       "    <tr>\n",
       "      <th>75%</th>\n",
       "      <td>48.000000</td>\n",
       "      <td>14.000000</td>\n",
       "      <td>158915.250000</td>\n",
       "      <td>16.000000</td>\n",
       "      <td>17.000000</td>\n",
       "      <td>28.000000</td>\n",
       "      <td>16.000000</td>\n",
       "      <td>90.000000</td>\n",
       "      <td>2014.000000</td>\n",
       "      <td>1.000000</td>\n",
       "    </tr>\n",
       "    <tr>\n",
       "      <th>max</th>\n",
       "      <td>59.000000</td>\n",
       "      <td>17.000000</td>\n",
       "      <td>199967.000000</td>\n",
       "      <td>19.000000</td>\n",
       "      <td>19.000000</td>\n",
       "      <td>34.000000</td>\n",
       "      <td>19.000000</td>\n",
       "      <td>119.000000</td>\n",
       "      <td>2022.000000</td>\n",
       "      <td>1.000000</td>\n",
       "    </tr>\n",
       "  </tbody>\n",
       "</table>\n",
       "</div>"
      ],
      "text/plain": [
       "           LOA (m)     Boca (m)      DWT (ton)  Calado de Entrada (m)  \\\n",
       "count  1000.000000  1000.000000    1000.000000            1000.000000   \n",
       "mean     36.611000    11.425000  113554.570000              13.536000   \n",
       "std      12.956371     3.527722   50034.347423               3.408272   \n",
       "min      15.000000     6.000000   30043.000000               8.000000   \n",
       "25%      25.000000     8.000000   69858.750000              11.000000   \n",
       "50%      37.000000    11.000000  109808.500000              14.000000   \n",
       "75%      48.000000    14.000000  158915.250000              16.000000   \n",
       "max      59.000000    17.000000  199967.000000              19.000000   \n",
       "\n",
       "       Calado de Saída (m)  Calado Aéreo (m)   Pontal (m)  \\\n",
       "count          1000.000000       1000.000000  1000.000000   \n",
       "mean             13.567000         21.698000    12.153000   \n",
       "std               3.459694          7.342118     4.443798   \n",
       "min               8.000000         10.000000     5.000000   \n",
       "25%              11.000000         15.000000     8.000000   \n",
       "50%              14.000000         22.000000    12.000000   \n",
       "75%              17.000000         28.000000    16.000000   \n",
       "max              19.000000         34.000000    19.000000   \n",
       "\n",
       "       Tamanho de Lança (m)  Ano de Construção     Situação  \n",
       "count           1000.000000        1000.000000  1000.000000  \n",
       "mean              63.278000        2006.311000     0.327000  \n",
       "std               31.249564           9.384367     0.469352  \n",
       "min               10.000000        1990.000000     0.000000  \n",
       "25%               37.000000        1998.000000     0.000000  \n",
       "50%               61.500000        2006.000000     0.000000  \n",
       "75%               90.000000        2014.000000     1.000000  \n",
       "max              119.000000        2022.000000     1.000000  "
      ]
     },
     "execution_count": 43,
     "metadata": {},
     "output_type": "execute_result"
    }
   ],
   "source": [
    "df.describe()"
   ]
  },
  {
   "cell_type": "code",
   "execution_count": 44,
   "metadata": {
    "id": "fMEm2Y-Zz8XQ"
   },
   "outputs": [],
   "source": [
    "#DEFINIÇÃO DOS PREVISORES E CLASSE\n",
    "indices_previsores = [1, 2, 3, 4, 5, 9]\n",
    "previsores = df.iloc[:, indices_previsores].values\n",
    "classe = df.iloc[:, 13].values"
   ]
  },
  {
   "cell_type": "code",
   "execution_count": 9,
   "metadata": {
    "id": "iZc065jf1QZ8"
   },
   "outputs": [
    {
     "data": {
      "text/plain": [
       "array([[ 1.72296794,  0.10470712, -0.4429997 , -0.71656709, -1.62950073,\n",
       "         0.54882659],\n",
       "       [-1.69777881, -0.18176927,  0.58406072, -1.28776446, -1.62950073,\n",
       "        -1.14263549],\n",
       "       [-1.46454608, -1.32767485, -0.14057562, -0.71656709,  1.26610252,\n",
       "         0.44311021],\n",
       "       ...,\n",
       "       [-0.84259212, -1.32767485,  0.65466288,  1.56822237, -1.33994041,\n",
       "         1.60599039],\n",
       "       [ 1.72296794, -0.18176927,  1.45761525, -0.71656709, -0.47125943,\n",
       "         1.50027401],\n",
       "       [-1.54229032, -1.32767485,  0.99900572, -0.14536973,  0.68698187,\n",
       "        -1.56550102]])"
      ]
     },
     "execution_count": 9,
     "metadata": {},
     "output_type": "execute_result"
    }
   ],
   "source": [
    "#ESCALONAMENTO DOS PREVISORES\n",
    "#scaler = StandardScaler()\n",
    "\n",
    "#previsores = scaler.fit_transform(previsores)\n",
    "#previsores"
   ]
  },
  {
   "cell_type": "code",
   "execution_count": 54,
   "metadata": {
    "id": "BEIY2nmF2loX"
   },
   "outputs": [],
   "source": [
    "#SEPARANDO DADOS DE TESTE E TREINO\n",
    "p_train, p_test, c_train, c_test = train_test_split(previsores, classe, test_size=0.25)"
   ]
  },
  {
   "cell_type": "code",
   "execution_count": 55,
   "metadata": {
    "colab": {
     "base_uri": "https://localhost:8080/",
     "height": 75
    },
    "id": "jb7TCsdE3YpM",
    "outputId": "7bc50220-5c07-41e0-dd8e-d08636dc9cce"
   },
   "outputs": [
    {
     "data": {
      "text/html": [
       "<style>#sk-container-id-9 {color: black;}#sk-container-id-9 pre{padding: 0;}#sk-container-id-9 div.sk-toggleable {background-color: white;}#sk-container-id-9 label.sk-toggleable__label {cursor: pointer;display: block;width: 100%;margin-bottom: 0;padding: 0.3em;box-sizing: border-box;text-align: center;}#sk-container-id-9 label.sk-toggleable__label-arrow:before {content: \"▸\";float: left;margin-right: 0.25em;color: #696969;}#sk-container-id-9 label.sk-toggleable__label-arrow:hover:before {color: black;}#sk-container-id-9 div.sk-estimator:hover label.sk-toggleable__label-arrow:before {color: black;}#sk-container-id-9 div.sk-toggleable__content {max-height: 0;max-width: 0;overflow: hidden;text-align: left;background-color: #f0f8ff;}#sk-container-id-9 div.sk-toggleable__content pre {margin: 0.2em;color: black;border-radius: 0.25em;background-color: #f0f8ff;}#sk-container-id-9 input.sk-toggleable__control:checked~div.sk-toggleable__content {max-height: 200px;max-width: 100%;overflow: auto;}#sk-container-id-9 input.sk-toggleable__control:checked~label.sk-toggleable__label-arrow:before {content: \"▾\";}#sk-container-id-9 div.sk-estimator input.sk-toggleable__control:checked~label.sk-toggleable__label {background-color: #d4ebff;}#sk-container-id-9 div.sk-label input.sk-toggleable__control:checked~label.sk-toggleable__label {background-color: #d4ebff;}#sk-container-id-9 input.sk-hidden--visually {border: 0;clip: rect(1px 1px 1px 1px);clip: rect(1px, 1px, 1px, 1px);height: 1px;margin: -1px;overflow: hidden;padding: 0;position: absolute;width: 1px;}#sk-container-id-9 div.sk-estimator {font-family: monospace;background-color: #f0f8ff;border: 1px dotted black;border-radius: 0.25em;box-sizing: border-box;margin-bottom: 0.5em;}#sk-container-id-9 div.sk-estimator:hover {background-color: #d4ebff;}#sk-container-id-9 div.sk-parallel-item::after {content: \"\";width: 100%;border-bottom: 1px solid gray;flex-grow: 1;}#sk-container-id-9 div.sk-label:hover label.sk-toggleable__label {background-color: #d4ebff;}#sk-container-id-9 div.sk-serial::before {content: \"\";position: absolute;border-left: 1px solid gray;box-sizing: border-box;top: 0;bottom: 0;left: 50%;z-index: 0;}#sk-container-id-9 div.sk-serial {display: flex;flex-direction: column;align-items: center;background-color: white;padding-right: 0.2em;padding-left: 0.2em;position: relative;}#sk-container-id-9 div.sk-item {position: relative;z-index: 1;}#sk-container-id-9 div.sk-parallel {display: flex;align-items: stretch;justify-content: center;background-color: white;position: relative;}#sk-container-id-9 div.sk-item::before, #sk-container-id-9 div.sk-parallel-item::before {content: \"\";position: absolute;border-left: 1px solid gray;box-sizing: border-box;top: 0;bottom: 0;left: 50%;z-index: -1;}#sk-container-id-9 div.sk-parallel-item {display: flex;flex-direction: column;z-index: 1;position: relative;background-color: white;}#sk-container-id-9 div.sk-parallel-item:first-child::after {align-self: flex-end;width: 50%;}#sk-container-id-9 div.sk-parallel-item:last-child::after {align-self: flex-start;width: 50%;}#sk-container-id-9 div.sk-parallel-item:only-child::after {width: 0;}#sk-container-id-9 div.sk-dashed-wrapped {border: 1px dashed gray;margin: 0 0.4em 0.5em 0.4em;box-sizing: border-box;padding-bottom: 0.4em;background-color: white;}#sk-container-id-9 div.sk-label label {font-family: monospace;font-weight: bold;display: inline-block;line-height: 1.2em;}#sk-container-id-9 div.sk-label-container {text-align: center;}#sk-container-id-9 div.sk-container {/* jupyter's `normalize.less` sets `[hidden] { display: none; }` but bootstrap.min.css set `[hidden] { display: none !important; }` so we also need the `!important` here to be able to override the default hidden behavior on the sphinx rendered scikit-learn.org. See: https://github.com/scikit-learn/scikit-learn/issues/21755 */display: inline-block !important;position: relative;}#sk-container-id-9 div.sk-text-repr-fallback {display: none;}</style><div id=\"sk-container-id-9\" class=\"sk-top-container\"><div class=\"sk-text-repr-fallback\"><pre>RandomForestClassifier(criterion=&#x27;entropy&#x27;, n_estimators=12, random_state=0)</pre><b>In a Jupyter environment, please rerun this cell to show the HTML representation or trust the notebook. <br />On GitHub, the HTML representation is unable to render, please try loading this page with nbviewer.org.</b></div><div class=\"sk-container\" hidden><div class=\"sk-item\"><div class=\"sk-estimator sk-toggleable\"><input class=\"sk-toggleable__control sk-hidden--visually\" id=\"sk-estimator-id-9\" type=\"checkbox\" checked><label for=\"sk-estimator-id-9\" class=\"sk-toggleable__label sk-toggleable__label-arrow\">RandomForestClassifier</label><div class=\"sk-toggleable__content\"><pre>RandomForestClassifier(criterion=&#x27;entropy&#x27;, n_estimators=12, random_state=0)</pre></div></div></div></div></div>"
      ],
      "text/plain": [
       "RandomForestClassifier(criterion='entropy', n_estimators=12, random_state=0)"
      ]
     },
     "execution_count": 55,
     "metadata": {},
     "output_type": "execute_result"
    }
   ],
   "source": [
    "#APLICANDO MODELO RANDOM FOREST\n",
    "classificador = RandomForestClassifier(n_estimators=12, criterion='entropy', random_state=0)\n",
    "classificador.fit(p_train, c_train)"
   ]
  },
  {
   "cell_type": "code",
   "execution_count": 56,
   "metadata": {
    "id": "6CGeBcFJ3pVO"
   },
   "outputs": [],
   "source": [
    "previsoes = classificador.predict(p_test)"
   ]
  },
  {
   "cell_type": "code",
   "execution_count": 57,
   "metadata": {
    "colab": {
     "base_uri": "https://localhost:8080/"
    },
    "id": "vT6JptJw31as",
    "outputId": "a5d706bb-2f14-441d-e154-99f24b5d639d"
   },
   "outputs": [
    {
     "name": "stdout",
     "output_type": "stream",
     "text": [
      "RESULTADO DE CONFUSION MATRIZ:\n",
      " [[164   0]\n",
      " [  0  86]]\n",
      "\n",
      "ACURÁCIA: 1.0\n"
     ]
    }
   ],
   "source": [
    "precisao = accuracy_score(c_test, previsoes)\n",
    "matriz = confusion_matrix(c_test, previsoes)\n",
    "\n",
    "print(\"RESULTADO DE CONFUSION MATRIZ:\\n\", matriz)\n",
    "print(\"\\nACURÁCIA:\",precisao)"
   ]
  },
  {
   "cell_type": "code",
   "execution_count": 58,
   "metadata": {
    "colab": {
     "base_uri": "https://localhost:8080/"
    },
    "id": "hDVH9pz_5KNb",
    "outputId": "6e71d815-a427-4961-af3e-cfe710844512"
   },
   "outputs": [
    {
     "name": "stdout",
     "output_type": "stream",
     "text": [
      "Resultados Acurácia:  [0.995 1.    1.    1.    1.   ]\n",
      "Acurácia média: \n"
     ]
    },
    {
     "data": {
      "text/plain": [
       "(None, 0.999)"
      ]
     },
     "execution_count": 58,
     "metadata": {},
     "output_type": "execute_result"
    }
   ],
   "source": [
    "resultados_acuracia = cross_val_score(classificador, previsores, classe, cv=5, scoring='accuracy')\n",
    "\n",
    "print(\"Resultados Acurácia: \", resultados_acuracia)\n",
    "print(\"Acurácia média: \"), np.mean(resultados_acuracia)"
   ]
  },
  {
   "cell_type": "code",
   "execution_count": null,
   "metadata": {},
   "outputs": [],
   "source": []
  }
 ],
 "metadata": {
  "colab": {
   "provenance": []
  },
  "kernelspec": {
   "display_name": "Python 3 (ipykernel)",
   "language": "python",
   "name": "python3"
  },
  "language_info": {
   "codemirror_mode": {
    "name": "ipython",
    "version": 3
   },
   "file_extension": ".py",
   "mimetype": "text/x-python",
   "name": "python",
   "nbconvert_exporter": "python",
   "pygments_lexer": "ipython3",
   "version": "3.11.5"
  }
 },
 "nbformat": 4,
 "nbformat_minor": 1
}
