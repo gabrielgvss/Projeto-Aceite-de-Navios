{
  "cells": [
    {
      "cell_type": "code",
      "execution_count": 1,
      "id": "1b7dbd7e",
      "metadata": {
        "id": "1b7dbd7e"
      },
      "outputs": [],
      "source": [
        "#IMPORTANDO BIBLIOTECAS\n",
        "import numpy as np\n",
        "import pandas as pd\n",
        "import random"
      ]
    },
    {
      "cell_type": "code",
      "execution_count": 2,
      "id": "fb89cc39",
      "metadata": {
        "id": "fb89cc39"
      },
      "outputs": [],
      "source": [
        "# INTERVALOS DE VALORES PARA OS CAMPOS\n",
        "loa_min = 15\n",
        "loa_max = 60\n",
        "\n",
        "boca_min = 6\n",
        "boca_max = 18\n",
        "\n",
        "dwt_min = 30000\n",
        "dwt_max = 200000\n",
        "\n",
        "calado_entrada_min = 8\n",
        "calado_entrada_max = 20\n",
        "\n",
        "calado_saida_min = 8\n",
        "calado_saida_max = 20\n",
        "\n",
        "calado_aereo_min = 10\n",
        "calado_aereo_max = 35\n",
        "\n",
        "pontal_min = 5\n",
        "pontal_max = 20\n",
        "\n",
        "tamanho_lanca_min = 10\n",
        "tamanho_lanca_max = 120\n",
        "\n",
        "ano_construcao_min = 1990\n",
        "ano_construcao_max = 2023\n",
        "\n",
        "tipos_navio = ['GS', 'CG', 'GSM', 'GL', 'GLP', 'CNTR']\n"
      ]
    },
    {
      "cell_type": "code",
      "execution_count": 3,
      "id": "81938657",
      "metadata": {
        "id": "81938657"
      },
      "outputs": [],
      "source": [
        "# NUMERO DE AMOSTRAS QUE SERÃO GERADAS\n",
        "num_amostras = 2000\n",
        "\n",
        "# GERAÇÃO DE VALORES ALEATÓRIOS VIA NUMPY\n",
        "np.random.seed(0)\n",
        "random.seed(0)\n",
        "\n",
        "nomes = np.array(['Navio' + str(i) for i in range(1, num_amostras + 1)])\n",
        "\n",
        "loa = np.random.randint(loa_min, loa_max, num_amostras)\n",
        "\n",
        "boca = np.random.randint(boca_min, boca_max, num_amostras)\n",
        "\n",
        "dwt = np.random.randint(dwt_min, dwt_max, num_amostras)\n",
        "\n",
        "calado_entrada = np.random.randint(calado_entrada_min, calado_entrada_max, num_amostras)\n",
        "\n",
        "calado_saida = np.random.randint(calado_saida_min, calado_saida_max, num_amostras)\n",
        "\n",
        "calado_aereo = np.random.randint(calado_aereo_min, calado_aereo_max, num_amostras)\n",
        "\n",
        "pontal = np.random.randint(pontal_min, pontal_max, num_amostras)\n",
        "\n",
        "tamanho_lanca = np.random.randint(tamanho_lanca_min, tamanho_lanca_max, num_amostras)\n",
        "\n",
        "ano_construcao = np.random.randint(ano_construcao_min, ano_construcao_max, num_amostras)\n",
        "\n",
        "ultimo_porto = np.array(['Porto' + str(i) for i in np.random.randint(1, 6, num_amostras)])\n",
        "\n",
        "proximo_porto = np.array(['Porto' + str(i) for i in np.random.randint(1, 6, num_amostras)])\n",
        "\n",
        "tipo_navio = [random.choice(tipos_navio) for _ in range(num_amostras)]\n",
        "\n"
      ]
    },
    {
      "cell_type": "code",
      "execution_count": 4,
      "id": "498a29f5",
      "metadata": {
        "id": "498a29f5"
      },
      "outputs": [],
      "source": [
        "#CRIAÇÃO DE DATAFRAME COM VALORES\n",
        "data = {\n",
        "    'Nome': nomes,\n",
        "    'LOA (m)': loa,\n",
        "    'Boca (m)': boca,\n",
        "    'DWT (ton)': dwt,\n",
        "    'Calado de Entrada (m)': calado_entrada,\n",
        "    'Calado de Saída (m)': calado_saida,\n",
        "    'Calado Aéreo (m)': calado_aereo,\n",
        "    'Pontal (m)': pontal,\n",
        "    'Tamanho de Lança (m)': tamanho_lanca,\n",
        "    'Ano de Construção': ano_construcao,\n",
        "    'Tipo do Navio': tipo_navio,\n",
        "    'Último Porto': ultimo_porto,\n",
        "    'Próximo Porto': proximo_porto\n",
        "\n",
        "}\n",
        "\n",
        "df = pd.DataFrame(data)"
      ]
    },
    {
      "cell_type": "code",
      "execution_count": 5,
      "id": "4dda755b",
      "metadata": {
        "id": "4dda755b"
      },
      "outputs": [],
      "source": [
        "#CRIACAO DE CONDICOES PARA DETERMINAÇÃO DA CLASSE DE ACORDO COM PREVISORES\n",
        "def determinar_classificacao(df):\n",
        "    condicao_loa = df['LOA (m)'] <= 280\n",
        "    condicao_boca = df['Boca (m)'] <= 50\n",
        "    condicao_dwt = df['DWT (ton)'] <= 155000\n",
        "    condicao_ce = df['Calado de Entrada (m)'] <= 18.5\n",
        "    condicao_cs = df['Calado de Saída (m)'] <= 18.5\n",
        "    condicao_idade = 2023 - df['Ano de Construção'] < 18\n",
        "\n",
        "    combinacao = condicao_loa and condicao_boca and condicao_dwt and condicao_ce and condicao_cs and condicao_idade\n",
        "    return 1 if combinacao else 0"
      ]
    },
    {
      "cell_type": "code",
      "execution_count": null,
      "id": "5d789645",
      "metadata": {
        "id": "5d789645"
      },
      "outputs": [],
      "source": [
        "#CRIACAO DA CLASSE 'SITUACAO' 0 - NEGADO, 1 - APROVADO\n",
        "df['Situação'] = df.apply(determinar_classificacao, axis=1)\n",
        "df.head(30)"
      ]
    },
    {
      "cell_type": "code",
      "execution_count": 8,
      "id": "81b76517",
      "metadata": {
        "id": "81b76517"
      },
      "outputs": [],
      "source": [
        "df = df.to_csv('random_data.csv', index=False)"
      ]
    }
  ],
  "metadata": {
    "kernelspec": {
      "display_name": "Python 3 (ipykernel)",
      "language": "python",
      "name": "python3"
    },
    "language_info": {
      "codemirror_mode": {
        "name": "ipython",
        "version": 3
      },
      "file_extension": ".py",
      "mimetype": "text/x-python",
      "name": "python",
      "nbconvert_exporter": "python",
      "pygments_lexer": "ipython3",
      "version": "3.11.5"
    },
    "colab": {
      "provenance": []
    }
  },
  "nbformat": 4,
  "nbformat_minor": 5
}